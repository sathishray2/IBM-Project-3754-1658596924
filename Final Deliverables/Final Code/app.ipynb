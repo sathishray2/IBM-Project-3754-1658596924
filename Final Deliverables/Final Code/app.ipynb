{
 "cells": [
  {
   "cell_type": "code",
   "execution_count": 1,
   "id": "7c5f0c52",
   "metadata": {},
   "outputs": [
    {
     "name": "stdout",
     "output_type": "stream",
     "text": [
      " * Serving Flask app '__main__'\n",
      " * Debug mode: off\n"
     ]
    },
    {
     "name": "stderr",
     "output_type": "stream",
     "text": [
      "WARNING: This is a development server. Do not use it in a production deployment. Use a production WSGI server instead.\n",
      " * Running on http://127.0.0.1:5000\n",
      "Press CTRL+C to quit\n",
      "127.0.0.1 - - [12/Nov/2022 20:32:46] \"GET / HTTP/1.1\" 200 -\n",
      "127.0.0.1 - - [12/Nov/2022 20:32:46] \"GET /static/css/style.css HTTP/1.1\" 304 -\n",
      "127.0.0.1 - - [12/Nov/2022 20:32:46] \"GET /static/css/bg.jpg HTTP/1.1\" 304 -\n",
      "127.0.0.1 - - [12/Nov/2022 20:32:55] \"POST /form_reg HTTP/1.1\" 200 -\n",
      "127.0.0.1 - - [12/Nov/2022 20:32:55] \"GET /static/css/style.css HTTP/1.1\" 304 -\n",
      "127.0.0.1 - - [12/Nov/2022 20:32:55] \"GET /static/css/bg.jpg HTTP/1.1\" 304 -\n",
      "127.0.0.1 - - [12/Nov/2022 20:33:01] \"POST /form_login HTTP/1.1\" 200 -\n",
      "127.0.0.1 - - [12/Nov/2022 20:33:04] \"GET /upload HTTP/1.1\" 200 -\n",
      "127.0.0.1 - - [12/Nov/2022 20:33:04] \"GET /static/js/main.js HTTP/1.1\" 304 -\n",
      "127.0.0.1 - - [12/Nov/2022 20:33:04] \"GET /static/css/main.css HTTP/1.1\" 304 -\n"
     ]
    },
    {
     "name": "stdout",
     "output_type": "stream",
     "text": [
      "[INFO] loading model...\n"
     ]
    },
    {
     "name": "stderr",
     "output_type": "stream",
     "text": [
      "127.0.0.1 - - [12/Nov/2022 20:33:15] \"POST /predict HTTP/1.1\" 200 -\n"
     ]
    },
    {
     "name": "stdout",
     "output_type": "stream",
     "text": [
      "[1]\n"
     ]
    }
   ],
   "source": [
    "from flask import Flask,request,render_template\n",
    "import pickle\n",
    "import cv2\n",
    "from skimage import feature\n",
    "import os.path\n",
    "\n",
    "app = Flask(__name__)\n",
    "\n",
    "\n",
    "@app.route('/')\n",
    "def hello_world():\n",
    "    return render_template(\"index.html\")\n",
    "class my_dictionary(dict):\n",
    "  def __init__(self):\n",
    "    self = dict()\n",
    "  def add(self, key, value):\n",
    "    self[key] = value\n",
    "database=my_dictionary()\n",
    "\n",
    "@app.route('/form_reg',methods=['POST','GET'])\n",
    "def reg():\n",
    "    name2=request.form['userid']\n",
    "    pwd1=request.form['pwd']\n",
    "    database.add(name2,pwd1)\n",
    "    return render_template(\"index.html\")\n",
    "@app.route('/form_login',methods=['POST','GET'])\n",
    "def login():\n",
    "    name1=request.form['userid']\n",
    "    pwd=request.form['pwd']\n",
    "    if name1 not in database:\n",
    "\t    return render_template('index.html',info='Invalid User!!')\n",
    "    else:\n",
    "        if database[name1]!=pwd:\n",
    "            return render_template('index.html',info='Invalid Password!!')\n",
    "        else:\n",
    "\t         return render_template('home.html',name=name1)\n",
    "@app.route(\"/\") \n",
    "def about():\n",
    "    return render_template(\"home.html\")#rendering html page\n",
    "\n",
    "@app.route(\"/home\") \n",
    "def home():\n",
    "    return render_template(\"home.html\")\n",
    "\n",
    "@app.route(\"/upload\")\n",
    "def test():\n",
    "    return render_template(\"pred.html\")\n",
    "\n",
    "@app.route('/predict', methods=['GET', 'POST'])\n",
    "def upload():\n",
    "    if request.method == 'POST':\n",
    "        f=request.files['file'] #requesting the file\n",
    "        basepath=os.path.dirname(os.path.realpath('__file__'))#storing the file directory\n",
    "        filepath=os.path.join(basepath,\"uploads\",f.filename)#storing the file in uploads folder\n",
    "        f.save(filepath)#saving the file\n",
    "        \n",
    "        #Load the saved model\n",
    "        print(\"[INFO] loading model...\")\n",
    "        model = pickle.loads(open('parkinson_Deploy.pkl', \"rb\").read())\n",
    "        \n",
    "        # pre-process the image in the same manner we did earlier\n",
    "        image = cv2.imread(filepath)\n",
    "        output = image.copy()\n",
    "        \n",
    "        # load the input image, convert it to grayscale, and resize\n",
    "        output = cv2.resize(output, (128, 128))\n",
    "        image = cv2.cvtColor(image, cv2.COLOR_BGR2GRAY)\n",
    "        image = cv2.resize(image, (200, 200))\n",
    "        image = cv2.threshold(image, 0, 255,\n",
    "        cv2.THRESH_BINARY_INV | cv2.THRESH_OTSU)[1]\n",
    "\n",
    "        # Quantify the image and make predictions based on the extracted features using the last trained Random Forest.\n",
    "        features = feature.hog(image, orientations=9,\n",
    "        pixels_per_cell=(10, 10), cells_per_block=(2, 2),\n",
    "        transform_sqrt=True, block_norm=\"L1\")\n",
    "        preds = model.predict([features])\n",
    "        print(preds)\n",
    "        ls=[\"healthy\",\"parkinson\"]\n",
    "        result = ls[preds[0]]    \n",
    "        return result\n",
    "    return None\n",
    "    \n",
    "if __name__ == '__main__':\n",
    "    app.run()"
   ]
  }
 ],
 "metadata": {
  "kernelspec": {
   "display_name": "Python 3 (ipykernel)",
   "language": "python",
   "name": "python3"
  },
  "language_info": {
   "codemirror_mode": {
    "name": "ipython",
    "version": 3
   },
   "file_extension": ".py",
   "mimetype": "text/x-python",
   "name": "python",
   "nbconvert_exporter": "python",
   "pygments_lexer": "ipython3",
   "version": "3.7.9"
  }
 },
 "nbformat": 4,
 "nbformat_minor": 5
}
